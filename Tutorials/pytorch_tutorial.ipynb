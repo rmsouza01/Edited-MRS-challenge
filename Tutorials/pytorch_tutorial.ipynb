{
 "cells": [
  {
   "attachments": {},
   "cell_type": "markdown",
   "metadata": {},
   "source": [
    "## Sample MRS acceleration Tutorial\n",
    "\n",
    "This notebook is a tutorial for a simple implementation on how to create a machine learning model to accelerate GABA Edited-MRS\n",
    "\n",
    "The model we'll use will receive as input difference transients in the frequency domain and output a single difference spectrum. In other words, it's only performing the denoising and combination of the difference transients. An important note is that this is only one of the possible options, the acceleration could also be done with one model per subspectra, or in the time domain, for example."
   ]
  },
  {
   "cell_type": "code",
   "execution_count": 1,
   "metadata": {},
   "outputs": [],
   "source": [
    "# Changing path to access scripts\n",
    "import sys\n",
    "sys.path.insert(0,\"..\")\n",
    "\n",
    "import torch\n",
    "import torch.nn as nn\n",
    "from torch.utils.data import Dataset,DataLoader\n",
    "import torch.nn.functional as F\n",
    "import h5py\n",
    "import math\n",
    "import matplotlib.pyplot as plt\n",
    "import numpy as np"
   ]
  },
  {
   "cell_type": "code",
   "execution_count": 2,
   "metadata": {},
   "outputs": [
    {
     "data": {
      "text/plain": [
       "True"
      ]
     },
     "execution_count": 2,
     "metadata": {},
     "output_type": "execute_result"
    }
   ],
   "source": [
    "# Verify cuda\n",
    "torch.cuda.is_available()"
   ]
  },
  {
   "attachments": {},
   "cell_type": "markdown",
   "metadata": {},
   "source": [
    "### Data Loading\n",
    "\n",
    "The first thing we'll need to do is loading the data, which is stored as ground truth fids in a numpy file. We'll then add noise to the fids, using the same code as in the `noise_adding_tutorial`, generating our noisy transients this way.\n",
    "\n",
    "After obtaining the transients, we'll normalize both the x and y data and divide them into training and testing datasets."
   ]
  },
  {
   "cell_type": "code",
   "execution_count": 3,
   "metadata": {},
   "outputs": [],
   "source": [
    "### load sample data\n",
    "with h5py.File(\"../data/sample_data.h5\") as hf:\n",
    "    gt_fids = hf[\"ground_truth_fids\"][()]\n",
    "    ppm = hf[\"ppm\"][()]\n",
    "    t = hf[\"t\"][()]\n",
    "\n",
    "# transforming into frequency domain to use as the target data\n",
    "gt_spec = np.fft.fftshift(np.fft.ifft(gt_fids,axis=1),axes=1)\n",
    "\n",
    "\n",
    "####  Adding Noise ####\n",
    "#Expand to new dimension and add 40 transients per subspectra\n",
    "noise_fid = np.expand_dims(gt_fids.copy(),axis=3)\n",
    "noise_fid = np.repeat(noise_fid,40,axis=3)\n",
    "\n",
    "# Amplitude noise\n",
    "base_amplitude_noise = 10\n",
    "amplitude_noise = np.random.normal(0,base_amplitude_noise,size=noise_fid.shape)\n",
    "noise_fid = noise_fid+amplitude_noise\n",
    "\n",
    "# frequency noise\n",
    "freq_shift_std=20\n",
    "freq_shifts = np.random.normal(0,freq_shift_std,size = (noise_fid.shape[0],1,1,noise_fid.shape[3]))\n",
    "noise_fid = noise_fid*np.exp(1j*(freq_shifts*t.reshape(t.shape[0],t.shape[1],1,1)*math.pi/2))\n",
    "\n",
    "# phase noise\n",
    "phase_shift_std=30\n",
    "phase_shifts = np.random.normal(0,phase_shift_std,size = (noise_fid.shape[0],1,1,noise_fid.shape[3]))\n",
    "noise_fid = noise_fid*np.exp(1j*(phase_shifts*np.ones((t.shape[0],t.shape[1],1,1))*math.pi/180))\n",
    "#### Finish Adding Noise ####\n",
    "\n",
    "# Note: The parameters to add noise and the way noise is added directly affects\n",
    "# the results and the objective is to be as close as possible to in vivo data.\n",
    "\n",
    "# Transforming time domain noisy transients into frequency domain difference transients\n",
    "noise_spec = np.fft.fftshift(np.fft.ifft(noise_fid,axis=1),axes=1)\n",
    "noise_diff_spec = noise_spec[:,:,1,:]-noise_spec[:,:,0,:]\n",
    "\n",
    "# initial definition of input and target data\n",
    "x = np.real(noise_diff_spec)\n",
    "y = np.real(gt_spec[:,:,1]-gt_spec[:,:,0]) # editing process in subtraction\n",
    "\n",
    "# normalizing using minimum of region of most interest and total maximum.\n",
    "x_max = x.max(axis=(1,2),keepdims=True)\n",
    "x_mean = x[:,900:1100].min(axis=(1,2),keepdims=True)\n",
    "\n",
    "y_max = y.max(axis=(1),keepdims=True)\n",
    "y_mean = y[:,900:1100].min(axis=(1),keepdims=True)\n",
    "\n",
    "x = (x-x_mean)/(x_max-x_mean)\n",
    "y = (y-y_mean)/(y_max-y_mean)\n",
    "\n",
    "# expanding dimensions for compatibility with U-NET\n",
    "x = np.expand_dims(x,axis=3)\n",
    "\n",
    "\n",
    "# division of training and testing data\n",
    "x_train = x[:int(x.shape[0]*0.8)]\n",
    "x_test = x[int(x.shape[0]*0.8):]\n",
    "\n",
    "y_train = y[:int(y.shape[0]*0.8)]\n",
    "y_test = y[int(y.shape[0]*0.8):]\n",
    "\n",
    "ppm_train = ppm[:int(ppm.shape[0]*0.8)]\n",
    "ppm_test = ppm[int(ppm.shape[0]*0.8):]\n",
    "\n",
    "# The section above was the same as the tensorflow tutorial,\n",
    "# now we will convert tje data to torch formats.\n",
    "\n",
    "x_train = torch.from_numpy(x_train)\n",
    "x_test = torch.from_numpy(x_test)\n",
    "\n",
    "y_train = torch.from_numpy(y_train)\n",
    "y_test = torch.from_numpy(y_test)\n",
    "\n",
    "ppm_train = torch.from_numpy(ppm_train)\n",
    "ppm_test = torch.from_numpy(ppm_test)\n"
   ]
  },
  {
   "attachments": {},
   "cell_type": "markdown",
   "metadata": {},
   "source": [
    "### Sample Model Used\n",
    "\n",
    "In this tutorial, we'll use a simple 2D U-net to combine the transients, considering the transients as a 2D \"image\" (spectral_points x transients). "
   ]
  },
  {
   "cell_type": "code",
   "execution_count": 4,
   "metadata": {},
   "outputs": [],
   "source": [
    "# We'll declare our model as a class\n",
    "class UNET(nn.Module):\n",
    "\n",
    "    # initializing the weights for the convolution layers\n",
    "    def __init__(self,transient_count):\n",
    "        super(UNET,self).__init__()\n",
    "\n",
    "        self.down_conv_1_1 = nn.Conv2d(1,16,kernel_size=(5,1),padding=\"same\")\n",
    "        self.down_conv_1_2 = nn.Conv2d(16,16,kernel_size=(3,3),padding=\"same\")\n",
    "\n",
    "        self.down_conv_2_1 = nn.Conv2d(16,32,kernel_size=(3,3),padding=\"same\")\n",
    "        self.down_conv_2_2 = nn.Conv2d(32,32,kernel_size=(3,3),padding=\"same\")\n",
    "\n",
    "        self.down_conv_3_1 = nn.Conv2d(32,64,kernel_size=(3,3),padding=\"same\")\n",
    "        self.down_conv_3_2 = nn.Conv2d(64,64,kernel_size=(3,3),padding=\"same\")\n",
    "\n",
    "        self.up_conv_1_1 = nn.Conv2d(64,128,kernel_size=(3,3),padding=\"same\")\n",
    "        self.up_conv_1_2 = nn.Conv2d(128,128,kernel_size=(3,3),padding=\"same\")\n",
    "\n",
    "        self.up_conv_2_1 = nn.Conv2d(192,64,kernel_size=(3,3),padding=\"same\")\n",
    "        self.up_conv_2_2 = nn.Conv2d(64,64,kernel_size=(3,3),padding=\"same\")\n",
    "\n",
    "        self.up_conv_3_1 = nn.Conv2d(96,32,kernel_size=(3,3),padding=\"same\")\n",
    "        self.up_conv_3_2 = nn.Conv2d(32,32,kernel_size=(3,3),padding=\"same\")\n",
    "\n",
    "        self.end_conv_1_1 = nn.Conv2d(48,128,kernel_size=(1,transient_count))\n",
    "        self.end_conv_1_2 = nn.Conv2d(128,1,kernel_size=(5,5),padding=\"same\")\n",
    "    \n",
    "    # defining forward pass\n",
    "    def forward(self,x):\n",
    "        \n",
    "        # changing order of dimensions, as in torch the filters come first\n",
    "        y = x.transpose(1,3)\n",
    "        y = y.transpose(2,3)\n",
    "\n",
    "        y = F.relu(self.down_conv_1_1(y))\n",
    "        y_skip1 = F.relu(self.down_conv_1_2(y))\n",
    "\n",
    "        y = F.max_pool2d(y_skip1,(2,1))\n",
    "\n",
    "        y = F.relu(self.down_conv_2_1(y))\n",
    "        y_skip2 = F.relu(self.down_conv_2_2(y))\n",
    "\n",
    "        y = F.max_pool2d(y_skip2,(2,1))\n",
    "\n",
    "        y = F.relu(self.down_conv_3_1(y))\n",
    "        y_skip3 = F.relu(self.down_conv_3_2(y))\n",
    "\n",
    "        y = F.max_pool2d(y_skip3,(2,1))\n",
    "\n",
    "        y = F.relu(self.up_conv_1_1(y))\n",
    "        y = F.relu(self.up_conv_1_2(y))\n",
    "\n",
    "        y = F.upsample(y,scale_factor=(2,1))\n",
    "\n",
    "        y = torch.concat([y,y_skip3],axis=1)\n",
    "\n",
    "        y = F.relu(self.up_conv_2_1(y))\n",
    "        y = F.relu(self.up_conv_2_2(y))\n",
    "\n",
    "        y = F.upsample(y,scale_factor=(2,1))\n",
    "\n",
    "        y = torch.concat([y,y_skip2],axis=1)\n",
    "\n",
    "        y = F.relu(self.up_conv_3_1(y))\n",
    "        y = F.relu(self.up_conv_3_2(y))\n",
    "\n",
    "        y = F.upsample(y,scale_factor=(2,1))\n",
    "\n",
    "        y = torch.concat([y,y_skip1],axis=1)\n",
    "\n",
    "        y = F.relu(self.end_conv_1_1(y))\n",
    "        y = self.end_conv_1_2(y)\n",
    "\n",
    "        # converting the order of layers back to the original format\n",
    "\n",
    "        y = y.transpose(1,3)\n",
    "        y = y.transpose(1,2)\n",
    "\n",
    "        # flattening result to only have 2 dimensions\n",
    "        return y.view(y.shape[0],-1)\n",
    "\n",
    "# We'll use a mean average loss applied to a specific range for a loss function\n",
    "class RangeMAELoss(nn.Module):\n",
    "\n",
    "    def __init__(self):\n",
    "        super(RangeMAELoss,self).__init__()\n",
    "\n",
    "    \n",
    "    # for the forward pass, a 1d ppm array must be passed and it's assumed that\n",
    "    # it's valid for all sets\n",
    "    def forward(self,x,y,ppm):\n",
    "        \n",
    "        # defining indexes of boundaries\n",
    "        min_ind = torch.argmax(ppm[ppm<=4])\n",
    "        max_ind = torch.argmin(ppm[ppm>=2.5])\n",
    "\n",
    "        # selecting part of arrays pertaining to region of interest\n",
    "        loss_x = x[:,min_ind:max_ind]\n",
    "        loss_y = y[:,min_ind:max_ind]\n",
    "\n",
    "        #calculate absolute loss mean value\n",
    "        loss = torch.abs(loss_x-loss_y).mean(dim=1).mean(axis=0)\n",
    "\n",
    "        return loss\n",
    "\n",
    "# Simple dataset used to iterate over data\n",
    "class BasicDataset(Dataset):\n",
    "    def __init__(self,x,y,ppm):\n",
    "        super(BasicDataset,self).__init__()\n",
    "\n",
    "        self.x = x\n",
    "        self.y = y\n",
    "        self.ppm = ppm\n",
    "\n",
    "    def __len__(self):\n",
    "        return int(self.x.shape[0])\n",
    "\n",
    "    def __getitem__(self,idx):\n",
    "\n",
    "        return self.x[idx],self.y[idx],self.ppm[idx]\n"
   ]
  },
  {
   "attachments": {},
   "cell_type": "markdown",
   "metadata": {},
   "source": [
    "### Setting Up model\n",
    "\n",
    "We'll instantiate the model using the same number of transients we've been using for our data, 40 transients. "
   ]
  },
  {
   "cell_type": "code",
   "execution_count": 5,
   "metadata": {},
   "outputs": [],
   "source": [
    "# instantiate model and make it use float values for avoiding incompatibilities\n",
    "model = UNET(40).float()"
   ]
  },
  {
   "attachments": {},
   "cell_type": "markdown",
   "metadata": {},
   "source": [
    "### Training Loop\n",
    "\n",
    "We'll instantiate the necessary objects for a training loop and perfom the optimization of our model's weights"
   ]
  },
  {
   "cell_type": "code",
   "execution_count": 6,
   "metadata": {},
   "outputs": [],
   "source": [
    "# defining dataset and loader\n",
    "train_dataset = BasicDataset(x_train,y_train,ppm_train)\n",
    "train_dataloader = DataLoader(train_dataset,10,shuffle=True)\n",
    "\n",
    "# defining loss, optimizer and setting learning rate to change over time\n",
    "loss_fn = RangeMAELoss()\n",
    "optim = torch.optim.Adam(model.parameters(),lr=0.001)\n",
    "lr_scheduler = torch.optim.lr_scheduler.MultiplicativeLR(optim,lambda lr: 0.5)\n",
    "lr_scheduler_freq=20\n",
    "\n",
    "\n",
    "# define the device to perform training, in case cuda is available\n",
    "device=\"cuda\"\n",
    "model.to(device)\n",
    "loss_fn.to(device)\n",
    "model.train()\n",
    "\n",
    "# defining amount of epochs\n",
    "epoch_count=100\n",
    "\n",
    "# define if should train or load pre-trained weights\n",
    "skip_train=True#False\n",
    "\n",
    "\n",
    "if skip_train:\n",
    "    model.load_state_dict(torch.load(\"torch_weights.pth\"))\n",
    "else:\n",
    "    for epoch in range(0,epoch_count):\n",
    "\n",
    "        epoch_losses = []\n",
    "        for x,y,x_ppm in train_dataloader:\n",
    "\n",
    "            x=x.to(device)\n",
    "            y=y.to(device)\n",
    "            x_ppm=x_ppm.to(device)\n",
    "\n",
    "            pred = model(x.float())\n",
    "            \n",
    "            loss = loss_fn(pred,y,x_ppm[0])\n",
    "            \n",
    "            optim.zero_grad()\n",
    "            loss.backward()\n",
    "            optim.step()\n",
    "\n",
    "            epoch_losses.append(loss.item())\n",
    "        if (epoch+1)%lr_scheduler_freq==0:\n",
    "            lr_scheduler.step()\n",
    "\n",
    "        # logging training losses once per epoch    \n",
    "        print(f\"epoch {epoch+1}/{epoch_count} - loss: {sum(epoch_losses)/len(epoch_losses)}\")"
   ]
  },
  {
   "cell_type": "code",
   "execution_count": 7,
   "metadata": {},
   "outputs": [],
   "source": [
    "# if necessary, saving model to save time later\n",
    "torch.save(model.state_dict(),\"torch_weights.pth\")"
   ]
  },
  {
   "cell_type": "code",
   "execution_count": 8,
   "metadata": {},
   "outputs": [
    {
     "data": {
      "text/plain": [
       "<All keys matched successfully>"
      ]
     },
     "execution_count": 8,
     "metadata": {},
     "output_type": "execute_result"
    }
   ],
   "source": [
    "# loading saved model - in case it was saved before\n",
    "model.load_state_dict(torch.load(\"torch_weights.pth\"))"
   ]
  },
  {
   "attachments": {},
   "cell_type": "markdown",
   "metadata": {},
   "source": [
    "### Veryfing Results\n",
    "\n",
    "We'll now visualize the effects on a single sample from the testing dataset to verify the model is working as expected. We'll also compare to the averaging of input data, to see the effect of the model on the results."
   ]
  },
  {
   "cell_type": "code",
   "execution_count": 9,
   "metadata": {},
   "outputs": [
    {
     "name": "stderr",
     "output_type": "stream",
     "text": [
      "/home/rodrigo/anaconda3/envs/torch/lib/python3.9/site-packages/torch/nn/functional.py:3722: UserWarning: nn.functional.upsample is deprecated. Use nn.functional.interpolate instead.\n",
      "  warnings.warn(\"nn.functional.upsample is deprecated. Use nn.functional.interpolate instead.\")\n"
     ]
    },
    {
     "data": {
      "image/png": "[encoded data removed]",
      "text/plain": [
       "<Figure size 640x480 with 1 Axes>"
      ]
     },
     "metadata": {},
     "output_type": "display_data"
    }
   ],
   "source": [
    "# creating test dataset and extracting a choosen scan\n",
    "test_dataset = BasicDataset(x_test,y_test,ppm_test)\n",
    "\n",
    "test_scan=15\n",
    "\n",
    "sample_x_test,sample_gt_spec,sample_ppm = test_dataset.__getitem__(test_scan)\n",
    "\n",
    "\n",
    "# calculating simple average of input data\n",
    "raw_average = sample_x_test.unsqueeze(0).mean(axis=2)\n",
    "\n",
    "# obtaining output from model\n",
    "with torch.no_grad():\n",
    "    pred = model(sample_x_test.unsqueeze(0).float().to(device)).to(\"cpu\")\n",
    "\n",
    "#plotting all results, with offset between for a better visualization\n",
    "fig,ax = plt.subplots()\n",
    "\n",
    "y_offset=0.3\n",
    "\n",
    "ax.plot(sample_ppm,raw_average.detach().numpy().flatten()+2*y_offset,label=\"simple average\")\n",
    "ax.plot(sample_ppm,pred.detach().numpy().flatten()+y_offset*1,label=\"reconstruction\")\n",
    "ax.plot(sample_ppm,sample_gt_spec.detach().numpy().flatten(),label=\"ground-truth\")\n",
    "\n",
    "\n",
    "ax.set_ylim(-0.3,1.5)\n",
    "ax.set_xlim(1.5,4)\n",
    "ax.set_yticks([])\n",
    "ax.set_xlabel(\"ppm\")\n",
    "ax.invert_xaxis()\n",
    "\n",
    "plt.legend()\n",
    "plt.show()"
   ]
  },
  {
   "attachments": {},
   "cell_type": "markdown",
   "metadata": {},
   "source": [
    "### Analyzing score of results\n",
    "\n",
    "We'll use a script to calculate the metrics of our model."
   ]
  },
  {
   "cell_type": "code",
   "execution_count": 10,
   "metadata": {},
   "outputs": [
    {
     "name": "stdout",
     "output_type": "stream",
     "text": [
      "torch.Size([40, 2048, 1])\n",
      "torch.Size([40, 2048])\n",
      "torch.Size([40, 2048])\n",
      "Raw Average Metrics: mse:4.48e-02 - snr:1.47e+01 - linewidth:2.67e-01 - shape_score:7.08e-01\n",
      "----- Model Metrics: mse:6.60e-03 - snr:6.60e+01 - linewidth:9.38e-02 - shape_score:9.44e-01\n"
     ]
    }
   ],
   "source": [
    "import metric_calculator\n",
    "\n",
    "pred = model.cpu()((x_test.float())).to(\"cpu\")\n",
    "raw_average = x_test.mean(axis=2)\n",
    "\n",
    "print(raw_average.shape)\n",
    "print(y_test.shape)\n",
    "print(pred.shape)\n",
    "\n",
    "#convert to numpy for compability\n",
    "np_pred = pred.detach().numpy()\n",
    "np_raw_average = raw_average.detach().numpy()\n",
    "np_y_test = y_test.detach().numpy()\n",
    "\n",
    "\n",
    "base_metrics = metric_calculator.calculate_metrics(np_raw_average.squeeze(2),np_y_test,ppm_test)\n",
    "model_metrics = metric_calculator.calculate_metrics(np_pred,np_y_test,ppm_test)\n",
    "\n",
    "print(f\"Raw Average Metrics: {' - '.join(['{}:{:.2e}'.format(key,value) for key,value in base_metrics.items()])}\")\n",
    "print(f\"----- Model Metrics: {' - '.join(['{}:{:.2e}'.format(key,value) for key,value in model_metrics.items()])}\")"
   ]
  },
  {
   "attachments": {},
   "cell_type": "markdown",
   "metadata": {},
   "source": [
    "### Saving submission\n",
    "\n",
    "We'll now save the results in a h5 format for submission, sipposing the test data was stored in the x_test variable. "
   ]
  },
  {
   "cell_type": "code",
   "execution_count": 11,
   "metadata": {},
   "outputs": [],
   "source": [
    "pred = model(x_test.float()).reshape(pred.shape[0],-1)\n",
    "\n",
    "from utils import save_submission\n",
    "# converting to numpy before saving in file\n",
    "save_submission(pred.detach().numpy(),ppm_test.numpy(),\"sample_submissions/torch_submission.h5\")"
   ]
  }
 ],
 "metadata": {
  "kernelspec": {
   "display_name": "torch",
   "language": "python",
   "name": "python3"
  },
  "language_info": {
   "codemirror_mode": {
    "name": "ipython",
    "version": 3
   },
   "file_extension": ".py",
   "mimetype": "text/x-python",
   "name": "python",
   "nbconvert_exporter": "python",
   "pygments_lexer": "ipython3",
   "version": "3.9.0"
  },
  "orig_nbformat": 4,
  "vscode": {
   "interpreter": {
    "hash": "e4e9359a76ef4913fd06e2e7fc03701c1df4765ac139c9d4620de4ae068fb925"
   }
  }
 },
 "nbformat": 4,
 "nbformat_minor": 2
}
