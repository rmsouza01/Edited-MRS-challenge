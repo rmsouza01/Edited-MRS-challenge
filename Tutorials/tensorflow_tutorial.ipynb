{
 "cells": [
  {
   "attachments": {},
   "cell_type": "markdown",
   "metadata": {},
   "source": [
    "## Sample MRS acceleration Tutorial - Tensorflow\n",
    "\n",
    "This notebook is a tutorial for a simple implementation on how to create a machine learning model to accelerate GABA Edited-MRS\n",
    "\n",
    "The model we'll use will receive as input difference transients in the frequency domain and output a single difference spectrum. In other words, it's only performing the denoising and combination of the difference transients. An important note is that this is only one of the possible options, the acceleration could also be done with one model per subspectra, or in the time domain, for example.\n"
   ]
  },
  {
   "cell_type": "code",
   "execution_count": 2,
   "metadata": {},
   "outputs": [],
   "source": [
    "# Changing path to access scripts\n",
    "import sys\n",
    "sys.path.insert(0,\"..\")\n",
    "\n",
    "\n",
    "import tensorflow as tf\n",
    "import pandas as pd\n",
    "import matplotlib.pyplot as plt\n",
    "import numpy as np\n",
    "import math\n",
    "import h5py"
   ]
  },
  {
   "attachments": {},
   "cell_type": "markdown",
   "metadata": {},
   "source": [
    "### Data Loading\n",
    "\n",
    "The first thing we'll need to do is loading the data, which is stored as ground truth fids in a numpy file. We'll then add noise to the fids, using the same code as in the `noise_adding_tutorial`, generating our noisy transients this way.\n",
    "\n",
    "After obtaining the transients, we'll normalize both the x and y data and divide them into training and testing datasets."
   ]
  },
  {
   "cell_type": "code",
   "execution_count": 3,
   "metadata": {},
   "outputs": [],
   "source": [
    "### load sample data\n",
    "with h5py.File(\"../data/sample_data.h5\") as hf:\n",
    "    gt_fids = hf[\"ground_truth_fids\"][()]\n",
    "    ppm = hf[\"ppm\"][()]\n",
    "    t = hf[\"t\"][()]\n",
    "\n",
    "# transforming into frequency domain to use as the target data\n",
    "gt_spec = np.fft.fftshift(np.fft.ifft(gt_fids,axis=1),axes=1)\n",
    "\n",
    "\n",
    "####  Adding Noise ####\n",
    "#Expand to new dimension and add 40 transients per subspectra\n",
    "noise_fid = np.expand_dims(gt_fids.copy(),axis=3)\n",
    "noise_fid = np.repeat(noise_fid,40,axis=3)\n",
    "\n",
    "# Amplitude noise\n",
    "base_amplitude_noise = 10\n",
    "amplitude_noise = np.random.normal(0,base_amplitude_noise,size=noise_fid.shape)\n",
    "noise_fid = noise_fid+amplitude_noise\n",
    "\n",
    "# frequency noise\n",
    "freq_shift_std=20\n",
    "freq_shifts = np.random.normal(0,freq_shift_std,size = (noise_fid.shape[0],1,1,noise_fid.shape[3]))\n",
    "noise_fid = noise_fid*np.exp(1j*(freq_shifts*t.reshape(t.shape[0],t.shape[1],1,1)*math.pi/2))\n",
    "\n",
    "# phase noise\n",
    "phase_shift_std=30\n",
    "phase_shifts = np.random.normal(0,phase_shift_std,size = (noise_fid.shape[0],1,1,noise_fid.shape[3]))\n",
    "noise_fid = noise_fid*np.exp(1j*(phase_shifts*np.ones((t.shape[0],t.shape[1],1,1))*math.pi/180))\n",
    "#### Finish Adding Noise ####\n",
    "\n",
    "# Note: The parameters to add noise and the way noise is added directly affects\n",
    "# the results and the objective is to be as close as possible to in vivo data.\n",
    "\n",
    "# Transforming time domain noisy transients into frequency domain difference transients\n",
    "noise_spec = np.fft.fftshift(np.fft.ifft(noise_fid,axis=1),axes=1)\n",
    "noise_diff_spec = noise_spec[:,:,1,:]-noise_spec[:,:,0,:]\n",
    "\n",
    "# initial definition of input and target data\n",
    "x = np.real(noise_diff_spec)\n",
    "y = np.real(gt_spec[:,:,1]-gt_spec[:,:,0]) # editing process in subtraction\n",
    "\n",
    "# normalizing using minimum of region of most interest and total maximum.\n",
    "x_max = x.max(axis=(1,2),keepdims=True)\n",
    "x_mean = x[:,900:1100].min(axis=(1,2),keepdims=True)\n",
    "\n",
    "y_max = y.max(axis=(1),keepdims=True)\n",
    "y_mean = y[:,900:1100].min(axis=(1),keepdims=True)\n",
    "\n",
    "x = (x-x_mean)/(x_max-x_mean)\n",
    "y = (y-y_mean)/(y_max-y_mean)\n",
    "\n",
    "# expanding dimensions for compatibility with U-NET\n",
    "x = np.expand_dims(x,axis=3)\n",
    "y = np.expand_dims(y,axis=(2,3))\n",
    "\n",
    "# division of training and testing data\n",
    "x_train = x[:int(x.shape[0]*0.8)]\n",
    "x_test = x[int(x.shape[0]*0.8):]\n",
    "\n",
    "y_train = y[:int(y.shape[0]*0.8)]\n",
    "y_test = y[int(y.shape[0]*0.8):]\n",
    "\n",
    "ppm_train = ppm[:int(ppm.shape[0]*0.8)]\n",
    "ppm_test = ppm[int(ppm.shape[0]*0.8):]"
   ]
  },
  {
   "attachments": {},
   "cell_type": "markdown",
   "metadata": {},
   "source": [
    "### Sample Model Used\n",
    "\n",
    "In this tutorial, we'll use a simple 2D U-net to combine the transients, considering the transients as a 2D \"image\" (spectral_points x transients). "
   ]
  },
  {
   "cell_type": "code",
   "execution_count": 4,
   "metadata": {},
   "outputs": [
    {
     "name": "stdout",
     "output_type": "stream",
     "text": [
      "Model: \"model\"\n",
      "__________________________________________________________________________________________________\n",
      " Layer (type)                   Output Shape         Param #     Connected to                     \n",
      "==================================================================================================\n",
      " input_1 (InputLayer)           [(None, 2048, 40, 1  0           []                               \n",
      "                                )]                                                                \n",
      "                                                                                                  \n",
      " conv2d (Conv2D)                (None, 2048, 40, 16  96          ['input_1[0][0]']                \n",
      "                                )                                                                 \n",
      "                                                                                                  \n",
      " conv2d_1 (Conv2D)              (None, 2048, 40, 16  2320        ['conv2d[0][0]']                 \n",
      "                                )                                                                 \n",
      "                                                                                                  \n",
      " max_pooling2d (MaxPooling2D)   (None, 1024, 40, 16  0           ['conv2d_1[0][0]']               \n",
      "                                )                                                                 \n",
      "                                                                                                  \n",
      " conv2d_2 (Conv2D)              (None, 1024, 40, 32  2592        ['max_pooling2d[0][0]']          \n",
      "                                )                                                                 \n",
      "                                                                                                  \n",
      " conv2d_3 (Conv2D)              (None, 1024, 40, 32  9248        ['conv2d_2[0][0]']               \n",
      "                                )                                                                 \n",
      "                                                                                                  \n",
      " max_pooling2d_1 (MaxPooling2D)  (None, 512, 40, 32)  0          ['conv2d_3[0][0]']               \n",
      "                                                                                                  \n",
      " conv2d_4 (Conv2D)              (None, 512, 40, 64)  10304       ['max_pooling2d_1[0][0]']        \n",
      "                                                                                                  \n",
      " conv2d_5 (Conv2D)              (None, 512, 40, 64)  36928       ['conv2d_4[0][0]']               \n",
      "                                                                                                  \n",
      " max_pooling2d_2 (MaxPooling2D)  (None, 256, 40, 64)  0          ['conv2d_5[0][0]']               \n",
      "                                                                                                  \n",
      " conv2d_6 (Conv2D)              (None, 256, 40, 128  41088       ['max_pooling2d_2[0][0]']        \n",
      "                                )                                                                 \n",
      "                                                                                                  \n",
      " conv2d_7 (Conv2D)              (None, 256, 40, 128  147584      ['conv2d_6[0][0]']               \n",
      "                                )                                                                 \n",
      "                                                                                                  \n",
      " up_sampling2d (UpSampling2D)   (None, 512, 40, 128  0           ['conv2d_7[0][0]']               \n",
      "                                )                                                                 \n",
      "                                                                                                  \n",
      " concatenate (Concatenate)      (None, 512, 40, 192  0           ['conv2d_5[0][0]',               \n",
      "                                )                                 'up_sampling2d[0][0]']          \n",
      "                                                                                                  \n",
      " conv2d_8 (Conv2D)              (None, 512, 40, 64)  61504       ['concatenate[0][0]']            \n",
      "                                                                                                  \n",
      " conv2d_9 (Conv2D)              (None, 512, 40, 64)  36928       ['conv2d_8[0][0]']               \n",
      "                                                                                                  \n",
      " up_sampling2d_1 (UpSampling2D)  (None, 1024, 40, 64  0          ['conv2d_9[0][0]']               \n",
      "                                )                                                                 \n",
      "                                                                                                  \n",
      " concatenate_1 (Concatenate)    (None, 1024, 40, 96  0           ['conv2d_3[0][0]',               \n",
      "                                )                                 'up_sampling2d_1[0][0]']        \n",
      "                                                                                                  \n",
      " conv2d_10 (Conv2D)             (None, 1024, 40, 32  15392       ['concatenate_1[0][0]']          \n",
      "                                )                                                                 \n",
      "                                                                                                  \n",
      " conv2d_11 (Conv2D)             (None, 1024, 40, 32  9248        ['conv2d_10[0][0]']              \n",
      "                                )                                                                 \n",
      "                                                                                                  \n",
      " up_sampling2d_2 (UpSampling2D)  (None, 2048, 40, 32  0          ['conv2d_11[0][0]']              \n",
      "                                )                                                                 \n",
      "                                                                                                  \n",
      " concatenate_2 (Concatenate)    (None, 2048, 40, 48  0           ['conv2d_1[0][0]',               \n",
      "                                )                                 'up_sampling2d_2[0][0]']        \n",
      "                                                                                                  \n",
      " conv2d_12 (Conv2D)             (None, 2048, 1, 128  245888      ['concatenate_2[0][0]']          \n",
      "                                )                                                                 \n",
      "                                                                                                  \n",
      " conv2d_13 (Conv2D)             (None, 2048, 1, 1)   3201        ['conv2d_12[0][0]']              \n",
      "                                                                                                  \n",
      "==================================================================================================\n",
      "Total params: 622,321\n",
      "Trainable params: 622,321\n",
      "Non-trainable params: 0\n",
      "__________________________________________________________________________________________________\n"
     ]
    },
    {
     "name": "stderr",
     "output_type": "stream",
     "text": [
      "2022-12-23 11:52:05.665814: I tensorflow/stream_executor/cuda/cuda_gpu_executor.cc:980] successful NUMA node read from SysFS had negative value (-1), but there must be at least one NUMA node, so returning NUMA node zero\n",
      "2022-12-23 11:52:05.682652: I tensorflow/stream_executor/cuda/cuda_gpu_executor.cc:980] successful NUMA node read from SysFS had negative value (-1), but there must be at least one NUMA node, so returning NUMA node zero\n",
      "2022-12-23 11:52:05.682798: I tensorflow/stream_executor/cuda/cuda_gpu_executor.cc:980] successful NUMA node read from SysFS had negative value (-1), but there must be at least one NUMA node, so returning NUMA node zero\n",
      "2022-12-23 11:52:05.683397: I tensorflow/core/platform/cpu_feature_guard.cc:193] This TensorFlow binary is optimized with oneAPI Deep Neural Network Library (oneDNN) to use the following CPU instructions in performance-critical operations:  SSE4.1 SSE4.2 AVX AVX2 AVX512F AVX512_VNNI FMA\n",
      "To enable them in other operations, rebuild TensorFlow with the appropriate compiler flags.\n",
      "2022-12-23 11:52:05.683904: I tensorflow/stream_executor/cuda/cuda_gpu_executor.cc:980] successful NUMA node read from SysFS had negative value (-1), but there must be at least one NUMA node, so returning NUMA node zero\n",
      "2022-12-23 11:52:05.684053: I tensorflow/stream_executor/cuda/cuda_gpu_executor.cc:980] successful NUMA node read from SysFS had negative value (-1), but there must be at least one NUMA node, so returning NUMA node zero\n",
      "2022-12-23 11:52:05.684134: I tensorflow/stream_executor/cuda/cuda_gpu_executor.cc:980] successful NUMA node read from SysFS had negative value (-1), but there must be at least one NUMA node, so returning NUMA node zero\n",
      "2022-12-23 11:52:06.290938: I tensorflow/stream_executor/cuda/cuda_gpu_executor.cc:980] successful NUMA node read from SysFS had negative value (-1), but there must be at least one NUMA node, so returning NUMA node zero\n",
      "2022-12-23 11:52:06.291112: I tensorflow/stream_executor/cuda/cuda_gpu_executor.cc:980] successful NUMA node read from SysFS had negative value (-1), but there must be at least one NUMA node, so returning NUMA node zero\n",
      "2022-12-23 11:52:06.291205: I tensorflow/stream_executor/cuda/cuda_gpu_executor.cc:980] successful NUMA node read from SysFS had negative value (-1), but there must be at least one NUMA node, so returning NUMA node zero\n",
      "2022-12-23 11:52:06.291321: I tensorflow/core/common_runtime/gpu/gpu_device.cc:1616] Created device /job:localhost/replica:0/task:0/device:GPU:0 with 5749 MB memory:  -> device: 0, name: NVIDIA GeForce RTX 3080 Laptop GPU, pci bus id: 0000:01:00.0, compute capability: 8.6\n"
     ]
    }
   ],
   "source": [
    "def MRS_unet(input_shape=(2048,40,1)):\n",
    "    input_layer = tf.keras.layers.Input(shape=input_shape)\n",
    "\n",
    "    down_conv_1_1 = tf.keras.layers.Conv2D(filters=16,kernel_size=(5,1),padding=\"same\",activation=\"relu\")(input_layer)\n",
    "    down_conv_1_2 = tf.keras.layers.Conv2D(filters=16,kernel_size=3,padding=\"same\",activation=\"relu\")(down_conv_1_1)\n",
    "    down_mp_1 = tf.keras.layers.MaxPool2D(pool_size=(2,1))(down_conv_1_2)\n",
    "\n",
    "    down_conv_2_1 = tf.keras.layers.Conv2D(filters=32,kernel_size=(5,1),padding=\"same\",activation=\"relu\")(down_mp_1)\n",
    "    down_conv_2_2 = tf.keras.layers.Conv2D(filters=32,kernel_size=3,padding=\"same\",activation=\"relu\")(down_conv_2_1)\n",
    "    down_mp_2 = tf.keras.layers.MaxPool2D(pool_size=(2,1))(down_conv_2_2)\n",
    "\n",
    "    down_conv_3_1 = tf.keras.layers.Conv2D(filters=64,kernel_size=(5,1),padding=\"same\",activation=\"relu\")(down_mp_2)\n",
    "    down_conv_3_2 = tf.keras.layers.Conv2D(filters=64,kernel_size=3,padding=\"same\")(down_conv_3_1)\n",
    "    down_mp_3 = tf.keras.layers.MaxPool2D(pool_size=(2,1))(down_conv_3_2)\n",
    "\n",
    "    up_conv_1_1 = tf.keras.layers.Conv2D(filters=128,kernel_size=(5,1),padding=\"same\",activation=\"relu\")(down_mp_3)\n",
    "    up_conv_1_2 = tf.keras.layers.Conv2D(filters=128,kernel_size=3,padding=\"same\",activation=\"relu\")(up_conv_1_1)\n",
    "    up_mp_1 = tf.keras.layers.UpSampling2D(size=(2,1))(up_conv_1_2)\n",
    "\n",
    "    concat_1 = tf.keras.layers.Concatenate(axis=3)([down_conv_3_2,up_mp_1])\n",
    "    up_conv_2_1 = tf.keras.layers.Conv2D(filters=64,kernel_size=(5,1),padding=\"same\",activation=\"relu\")(concat_1)\n",
    "    up_conv_2_2 = tf.keras.layers.Conv2D(filters=64,kernel_size=3,padding=\"same\",activation=\"relu\")(up_conv_2_1)\n",
    "    up_mp_2 = tf.keras.layers.UpSampling2D(size=(2,1))(up_conv_2_2)\n",
    "\n",
    "    concat_2 = tf.keras.layers.Concatenate(axis=3)([down_conv_2_2,up_mp_2])\n",
    "    up_conv_3_1 = tf.keras.layers.Conv2D(filters=32,kernel_size=(5,1),padding=\"same\",activation=\"relu\")(concat_2)\n",
    "    up_conv_3_2 = tf.keras.layers.Conv2D(filters=32,kernel_size=3,padding=\"same\",activation=\"relu\")(up_conv_3_1)\n",
    "    up_mp_3 = tf.keras.layers.UpSampling2D(size=(2,1))(up_conv_3_2)\n",
    "\n",
    "    concat_3 = tf.keras.layers.Concatenate(axis=3)([down_conv_1_2,up_mp_3])\n",
    "    end_conv_1 = tf.keras.layers.Conv2D(filters=128,kernel_size=(1,input_shape[1]),activation=\"relu\")(concat_3)\n",
    "    end_conv_2 = tf.keras.layers.Conv2D(filters=1,kernel_size=5,padding=\"same\",activation=\"linear\")(end_conv_1)\n",
    "\n",
    "    model = tf.keras.models.Model(inputs=input_layer, outputs=end_conv_2)\n",
    "    return model\n",
    "\n",
    "m = MRS_unet()\n",
    "m.summary()\n"
   ]
  },
  {
   "attachments": {},
   "cell_type": "markdown",
   "metadata": {},
   "source": [
    "### Loss Function and Training\n",
    "\n",
    "We'll use Mean Absolute Error (MAE) as our loss function, but instead of using it on the whole spectra, we'll only apply the function on a central region containing the GABA peak. This is done to ensure our model works in the region we're interested in, as otherwise the other areas might dominate the loss function and we'll obtain unsatisfying results"
   ]
  },
  {
   "cell_type": "code",
   "execution_count": 5,
   "metadata": {},
   "outputs": [
    {
     "name": "stdout",
     "output_type": "stream",
     "text": [
      "Epoch 1/100\n"
     ]
    },
    {
     "name": "stderr",
     "output_type": "stream",
     "text": [
      "2022-12-23 11:52:11.052551: I tensorflow/stream_executor/cuda/cuda_dnn.cc:384] Loaded cuDNN version 8401\n",
      "2022-12-23 11:52:12.227145: I tensorflow/core/platform/default/subprocess.cc:304] Start cannot spawn child process: No such file or directory\n",
      "2022-12-23 11:52:12.227585: I tensorflow/core/platform/default/subprocess.cc:304] Start cannot spawn child process: No such file or directory\n",
      "2022-12-23 11:52:12.227596: W tensorflow/stream_executor/gpu/asm_compiler.cc:80] Couldn't get ptxas version string: INTERNAL: Couldn't invoke ptxas --version\n",
      "2022-12-23 11:52:12.228055: I tensorflow/core/platform/default/subprocess.cc:304] Start cannot spawn child process: No such file or directory\n",
      "2022-12-23 11:52:12.228081: W tensorflow/stream_executor/gpu/redzone_allocator.cc:314] INTERNAL: Failed to launch ptxas\n",
      "Relying on driver to perform ptx compilation. \n",
      "Modify $PATH to customize ptxas location.\n",
      "This message will be only logged once.\n"
     ]
    },
    {
     "ename": "KeyboardInterrupt",
     "evalue": "",
     "output_type": "error",
     "traceback": [
      "\u001b[0;31m---------------------------------------------------------------------------\u001b[0m",
      "\u001b[0;31mKeyboardInterrupt\u001b[0m                         Traceback (most recent call last)",
      "Cell \u001b[0;32mIn[5], line 15\u001b[0m\n\u001b[1;32m     13\u001b[0m \u001b[39m# compiling model and training\u001b[39;00m\n\u001b[1;32m     14\u001b[0m m\u001b[39m.\u001b[39mcompile(optimizer\u001b[39m=\u001b[39mtf\u001b[39m.\u001b[39mkeras\u001b[39m.\u001b[39moptimizers\u001b[39m.\u001b[39mAdam(), loss\u001b[39m=\u001b[39m\u001b[39m\"\u001b[39m\u001b[39mmae\u001b[39m\u001b[39m\"\u001b[39m,loss_weights \u001b[39m=\u001b[39m loss_weights)\n\u001b[0;32m---> 15\u001b[0m m\u001b[39m.\u001b[39;49mfit(x_train, y_train, batch_size\u001b[39m=\u001b[39;49m\u001b[39m5\u001b[39;49m, epochs\u001b[39m=\u001b[39;49m\u001b[39m100\u001b[39;49m, verbose\u001b[39m=\u001b[39;49m\u001b[39m1\u001b[39;49m, shuffle\u001b[39m=\u001b[39;49m\u001b[39mTrue\u001b[39;49;00m, callbacks\u001b[39m=\u001b[39;49m[freq_lr_schedule])\n",
      "File \u001b[0;32m~/anaconda3/envs/tf2/lib/python3.10/site-packages/keras/utils/traceback_utils.py:65\u001b[0m, in \u001b[0;36mfilter_traceback.<locals>.error_handler\u001b[0;34m(*args, **kwargs)\u001b[0m\n\u001b[1;32m     63\u001b[0m filtered_tb \u001b[39m=\u001b[39m \u001b[39mNone\u001b[39;00m\n\u001b[1;32m     64\u001b[0m \u001b[39mtry\u001b[39;00m:\n\u001b[0;32m---> 65\u001b[0m     \u001b[39mreturn\u001b[39;00m fn(\u001b[39m*\u001b[39;49margs, \u001b[39m*\u001b[39;49m\u001b[39m*\u001b[39;49mkwargs)\n\u001b[1;32m     66\u001b[0m \u001b[39mexcept\u001b[39;00m \u001b[39mException\u001b[39;00m \u001b[39mas\u001b[39;00m e:\n\u001b[1;32m     67\u001b[0m     filtered_tb \u001b[39m=\u001b[39m _process_traceback_frames(e\u001b[39m.\u001b[39m__traceback__)\n",
      "File \u001b[0;32m~/anaconda3/envs/tf2/lib/python3.10/site-packages/keras/engine/training.py:1564\u001b[0m, in \u001b[0;36mModel.fit\u001b[0;34m(self, x, y, batch_size, epochs, verbose, callbacks, validation_split, validation_data, shuffle, class_weight, sample_weight, initial_epoch, steps_per_epoch, validation_steps, validation_batch_size, validation_freq, max_queue_size, workers, use_multiprocessing)\u001b[0m\n\u001b[1;32m   1556\u001b[0m \u001b[39mwith\u001b[39;00m tf\u001b[39m.\u001b[39mprofiler\u001b[39m.\u001b[39mexperimental\u001b[39m.\u001b[39mTrace(\n\u001b[1;32m   1557\u001b[0m     \u001b[39m\"\u001b[39m\u001b[39mtrain\u001b[39m\u001b[39m\"\u001b[39m,\n\u001b[1;32m   1558\u001b[0m     epoch_num\u001b[39m=\u001b[39mepoch,\n\u001b[0;32m   (...)\u001b[0m\n\u001b[1;32m   1561\u001b[0m     _r\u001b[39m=\u001b[39m\u001b[39m1\u001b[39m,\n\u001b[1;32m   1562\u001b[0m ):\n\u001b[1;32m   1563\u001b[0m     callbacks\u001b[39m.\u001b[39mon_train_batch_begin(step)\n\u001b[0;32m-> 1564\u001b[0m     tmp_logs \u001b[39m=\u001b[39m \u001b[39mself\u001b[39;49m\u001b[39m.\u001b[39;49mtrain_function(iterator)\n\u001b[1;32m   1565\u001b[0m     \u001b[39mif\u001b[39;00m data_handler\u001b[39m.\u001b[39mshould_sync:\n\u001b[1;32m   1566\u001b[0m         context\u001b[39m.\u001b[39masync_wait()\n",
      "File \u001b[0;32m~/anaconda3/envs/tf2/lib/python3.10/site-packages/tensorflow/python/util/traceback_utils.py:150\u001b[0m, in \u001b[0;36mfilter_traceback.<locals>.error_handler\u001b[0;34m(*args, **kwargs)\u001b[0m\n\u001b[1;32m    148\u001b[0m filtered_tb \u001b[39m=\u001b[39m \u001b[39mNone\u001b[39;00m\n\u001b[1;32m    149\u001b[0m \u001b[39mtry\u001b[39;00m:\n\u001b[0;32m--> 150\u001b[0m   \u001b[39mreturn\u001b[39;00m fn(\u001b[39m*\u001b[39;49margs, \u001b[39m*\u001b[39;49m\u001b[39m*\u001b[39;49mkwargs)\n\u001b[1;32m    151\u001b[0m \u001b[39mexcept\u001b[39;00m \u001b[39mException\u001b[39;00m \u001b[39mas\u001b[39;00m e:\n\u001b[1;32m    152\u001b[0m   filtered_tb \u001b[39m=\u001b[39m _process_traceback_frames(e\u001b[39m.\u001b[39m__traceback__)\n",
      "File \u001b[0;32m~/anaconda3/envs/tf2/lib/python3.10/site-packages/tensorflow/python/eager/def_function.py:915\u001b[0m, in \u001b[0;36mFunction.__call__\u001b[0;34m(self, *args, **kwds)\u001b[0m\n\u001b[1;32m    912\u001b[0m compiler \u001b[39m=\u001b[39m \u001b[39m\"\u001b[39m\u001b[39mxla\u001b[39m\u001b[39m\"\u001b[39m \u001b[39mif\u001b[39;00m \u001b[39mself\u001b[39m\u001b[39m.\u001b[39m_jit_compile \u001b[39melse\u001b[39;00m \u001b[39m\"\u001b[39m\u001b[39mnonXla\u001b[39m\u001b[39m\"\u001b[39m\n\u001b[1;32m    914\u001b[0m \u001b[39mwith\u001b[39;00m OptionalXlaContext(\u001b[39mself\u001b[39m\u001b[39m.\u001b[39m_jit_compile):\n\u001b[0;32m--> 915\u001b[0m   result \u001b[39m=\u001b[39m \u001b[39mself\u001b[39;49m\u001b[39m.\u001b[39;49m_call(\u001b[39m*\u001b[39;49margs, \u001b[39m*\u001b[39;49m\u001b[39m*\u001b[39;49mkwds)\n\u001b[1;32m    917\u001b[0m new_tracing_count \u001b[39m=\u001b[39m \u001b[39mself\u001b[39m\u001b[39m.\u001b[39mexperimental_get_tracing_count()\n\u001b[1;32m    918\u001b[0m without_tracing \u001b[39m=\u001b[39m (tracing_count \u001b[39m==\u001b[39m new_tracing_count)\n",
      "File \u001b[0;32m~/anaconda3/envs/tf2/lib/python3.10/site-packages/tensorflow/python/eager/def_function.py:980\u001b[0m, in \u001b[0;36mFunction._call\u001b[0;34m(self, *args, **kwds)\u001b[0m\n\u001b[1;32m    976\u001b[0m     \u001b[39mpass\u001b[39;00m  \u001b[39m# Fall through to cond-based initialization.\u001b[39;00m\n\u001b[1;32m    977\u001b[0m   \u001b[39melse\u001b[39;00m:\n\u001b[1;32m    978\u001b[0m     \u001b[39m# Lifting succeeded, so variables are initialized and we can run the\u001b[39;00m\n\u001b[1;32m    979\u001b[0m     \u001b[39m# stateless function.\u001b[39;00m\n\u001b[0;32m--> 980\u001b[0m     \u001b[39mreturn\u001b[39;00m \u001b[39mself\u001b[39;49m\u001b[39m.\u001b[39;49m_stateless_fn(\u001b[39m*\u001b[39;49margs, \u001b[39m*\u001b[39;49m\u001b[39m*\u001b[39;49mkwds)\n\u001b[1;32m    981\u001b[0m \u001b[39melse\u001b[39;00m:\n\u001b[1;32m    982\u001b[0m   _, _, filtered_flat_args \u001b[39m=\u001b[39m (\n\u001b[1;32m    983\u001b[0m       \u001b[39mself\u001b[39m\u001b[39m.\u001b[39m_stateful_fn\u001b[39m.\u001b[39m_function_spec\u001b[39m.\u001b[39mcanonicalize_function_inputs(  \u001b[39m# pylint: disable=protected-access\u001b[39;00m\n\u001b[1;32m    984\u001b[0m           \u001b[39m*\u001b[39margs, \u001b[39m*\u001b[39m\u001b[39m*\u001b[39mkwds))\n",
      "File \u001b[0;32m~/anaconda3/envs/tf2/lib/python3.10/site-packages/tensorflow/python/eager/function.py:2496\u001b[0m, in \u001b[0;36mFunction.__call__\u001b[0;34m(self, *args, **kwargs)\u001b[0m\n\u001b[1;32m   2493\u001b[0m \u001b[39mwith\u001b[39;00m \u001b[39mself\u001b[39m\u001b[39m.\u001b[39m_lock:\n\u001b[1;32m   2494\u001b[0m   (graph_function,\n\u001b[1;32m   2495\u001b[0m    filtered_flat_args) \u001b[39m=\u001b[39m \u001b[39mself\u001b[39m\u001b[39m.\u001b[39m_maybe_define_function(args, kwargs)\n\u001b[0;32m-> 2496\u001b[0m \u001b[39mreturn\u001b[39;00m graph_function\u001b[39m.\u001b[39;49m_call_flat(\n\u001b[1;32m   2497\u001b[0m     filtered_flat_args, captured_inputs\u001b[39m=\u001b[39;49mgraph_function\u001b[39m.\u001b[39;49mcaptured_inputs)\n",
      "File \u001b[0;32m~/anaconda3/envs/tf2/lib/python3.10/site-packages/tensorflow/python/eager/function.py:1862\u001b[0m, in \u001b[0;36mConcreteFunction._call_flat\u001b[0;34m(self, args, captured_inputs, cancellation_manager)\u001b[0m\n\u001b[1;32m   1858\u001b[0m possible_gradient_type \u001b[39m=\u001b[39m gradients_util\u001b[39m.\u001b[39mPossibleTapeGradientTypes(args)\n\u001b[1;32m   1859\u001b[0m \u001b[39mif\u001b[39;00m (possible_gradient_type \u001b[39m==\u001b[39m gradients_util\u001b[39m.\u001b[39mPOSSIBLE_GRADIENT_TYPES_NONE\n\u001b[1;32m   1860\u001b[0m     \u001b[39mand\u001b[39;00m executing_eagerly):\n\u001b[1;32m   1861\u001b[0m   \u001b[39m# No tape is watching; skip to running the function.\u001b[39;00m\n\u001b[0;32m-> 1862\u001b[0m   \u001b[39mreturn\u001b[39;00m \u001b[39mself\u001b[39m\u001b[39m.\u001b[39m_build_call_outputs(\u001b[39mself\u001b[39;49m\u001b[39m.\u001b[39;49m_inference_function\u001b[39m.\u001b[39;49mcall(\n\u001b[1;32m   1863\u001b[0m       ctx, args, cancellation_manager\u001b[39m=\u001b[39;49mcancellation_manager))\n\u001b[1;32m   1864\u001b[0m forward_backward \u001b[39m=\u001b[39m \u001b[39mself\u001b[39m\u001b[39m.\u001b[39m_select_forward_and_backward_functions(\n\u001b[1;32m   1865\u001b[0m     args,\n\u001b[1;32m   1866\u001b[0m     possible_gradient_type,\n\u001b[1;32m   1867\u001b[0m     executing_eagerly)\n\u001b[1;32m   1868\u001b[0m forward_function, args_with_tangents \u001b[39m=\u001b[39m forward_backward\u001b[39m.\u001b[39mforward()\n",
      "File \u001b[0;32m~/anaconda3/envs/tf2/lib/python3.10/site-packages/tensorflow/python/eager/function.py:499\u001b[0m, in \u001b[0;36m_EagerDefinedFunction.call\u001b[0;34m(self, ctx, args, cancellation_manager)\u001b[0m\n\u001b[1;32m    497\u001b[0m \u001b[39mwith\u001b[39;00m _InterpolateFunctionError(\u001b[39mself\u001b[39m):\n\u001b[1;32m    498\u001b[0m   \u001b[39mif\u001b[39;00m cancellation_manager \u001b[39mis\u001b[39;00m \u001b[39mNone\u001b[39;00m:\n\u001b[0;32m--> 499\u001b[0m     outputs \u001b[39m=\u001b[39m execute\u001b[39m.\u001b[39;49mexecute(\n\u001b[1;32m    500\u001b[0m         \u001b[39mstr\u001b[39;49m(\u001b[39mself\u001b[39;49m\u001b[39m.\u001b[39;49msignature\u001b[39m.\u001b[39;49mname),\n\u001b[1;32m    501\u001b[0m         num_outputs\u001b[39m=\u001b[39;49m\u001b[39mself\u001b[39;49m\u001b[39m.\u001b[39;49m_num_outputs,\n\u001b[1;32m    502\u001b[0m         inputs\u001b[39m=\u001b[39;49margs,\n\u001b[1;32m    503\u001b[0m         attrs\u001b[39m=\u001b[39;49mattrs,\n\u001b[1;32m    504\u001b[0m         ctx\u001b[39m=\u001b[39;49mctx)\n\u001b[1;32m    505\u001b[0m   \u001b[39melse\u001b[39;00m:\n\u001b[1;32m    506\u001b[0m     outputs \u001b[39m=\u001b[39m execute\u001b[39m.\u001b[39mexecute_with_cancellation(\n\u001b[1;32m    507\u001b[0m         \u001b[39mstr\u001b[39m(\u001b[39mself\u001b[39m\u001b[39m.\u001b[39msignature\u001b[39m.\u001b[39mname),\n\u001b[1;32m    508\u001b[0m         num_outputs\u001b[39m=\u001b[39m\u001b[39mself\u001b[39m\u001b[39m.\u001b[39m_num_outputs,\n\u001b[0;32m   (...)\u001b[0m\n\u001b[1;32m    511\u001b[0m         ctx\u001b[39m=\u001b[39mctx,\n\u001b[1;32m    512\u001b[0m         cancellation_manager\u001b[39m=\u001b[39mcancellation_manager)\n",
      "File \u001b[0;32m~/anaconda3/envs/tf2/lib/python3.10/site-packages/tensorflow/python/eager/execute.py:54\u001b[0m, in \u001b[0;36mquick_execute\u001b[0;34m(op_name, num_outputs, inputs, attrs, ctx, name)\u001b[0m\n\u001b[1;32m     52\u001b[0m \u001b[39mtry\u001b[39;00m:\n\u001b[1;32m     53\u001b[0m   ctx\u001b[39m.\u001b[39mensure_initialized()\n\u001b[0;32m---> 54\u001b[0m   tensors \u001b[39m=\u001b[39m pywrap_tfe\u001b[39m.\u001b[39;49mTFE_Py_Execute(ctx\u001b[39m.\u001b[39;49m_handle, device_name, op_name,\n\u001b[1;32m     55\u001b[0m                                       inputs, attrs, num_outputs)\n\u001b[1;32m     56\u001b[0m \u001b[39mexcept\u001b[39;00m core\u001b[39m.\u001b[39m_NotOkStatusException \u001b[39mas\u001b[39;00m e:\n\u001b[1;32m     57\u001b[0m   \u001b[39mif\u001b[39;00m name \u001b[39mis\u001b[39;00m \u001b[39mnot\u001b[39;00m \u001b[39mNone\u001b[39;00m:\n",
      "\u001b[0;31mKeyboardInterrupt\u001b[0m: "
     ]
    }
   ],
   "source": [
    "# defining loss weights to only consider central region\n",
    "loss_weights = np.concatenate([0.0*np.ones((912,1)),1*np.ones((150,1)),0.0*np.ones((986,1))],axis=0)\n",
    "\n",
    "# scheduler for decreasing learning rate\n",
    "def scheduler(epoch, lr):\n",
    "            if epoch%10 == 0 and epoch!=0:\n",
    "                lr = lr/2\n",
    "            return lr\n",
    "\n",
    "freq_lr_schedule = tf.keras.callbacks.LearningRateScheduler(scheduler,verbose = 0)\n",
    "\n",
    "\n",
    "# compiling model and training\n",
    "m.compile(optimizer=tf.keras.optimizers.Adam(), loss=\"mae\",loss_weights = loss_weights)\n",
    "m.fit(x_train, y_train, batch_size=5, epochs=100, verbose=1, shuffle=True, callbacks=[freq_lr_schedule])\n"
   ]
  },
  {
   "cell_type": "code",
   "execution_count": 7,
   "metadata": {},
   "outputs": [],
   "source": [
    "m.save_weights(\"weights.h5\")"
   ]
  },
  {
   "cell_type": "code",
   "execution_count": 6,
   "metadata": {},
   "outputs": [],
   "source": [
    "m.load_weights(\"weights.h5\")"
   ]
  },
  {
   "attachments": {},
   "cell_type": "markdown",
   "metadata": {},
   "source": [
    "### Veryfing Results\n",
    "\n",
    "We'll now visualize the effects on a single sample from the testing dataset to verify the model is working as expected. We'll also compare to the averaging of input data, to see the effect of the model on the results."
   ]
  },
  {
   "cell_type": "code",
   "execution_count": 7,
   "metadata": {},
   "outputs": [
    {
     "name": "stdout",
     "output_type": "stream",
     "text": [
      "1/1 [==============================] - 0s 435ms/step\n"
     ]
    },
    {
     "data": {
      "image/png": "[encoded data removed]",
      "text/plain": [
       "<Figure size 640x480 with 1 Axes>"
      ]
     },
     "metadata": {},
     "output_type": "display_data"
    }
   ],
   "source": [
    "# Comparing results\n",
    "\n",
    "# choosing scan to view\n",
    "test_scan=20\n",
    "\n",
    "# selecting sample\n",
    "sample_gt_spec = y_test[test_scan]\n",
    "sample_x_test = x_test[test_scan:test_scan+1]\n",
    "sample_ppm = ppm[test_scan]\n",
    "\n",
    "# calculating simple average of input data\n",
    "raw_average = sample_x_test.mean(axis=2)\n",
    "\n",
    "# obtaining output from model\n",
    "pred = m.predict(sample_x_test)\n",
    "\n",
    "#plotting all results, with offset between for a better visualization\n",
    "fig,ax = plt.subplots()\n",
    "\n",
    "y_offset=0.3\n",
    "\n",
    "ax.plot(sample_ppm,raw_average.flatten()+2*y_offset,label=\"simple average\")\n",
    "ax.plot(sample_ppm,pred.flatten()+y_offset,label=\"reconstruction\")\n",
    "ax.plot(sample_ppm,sample_gt_spec.flatten(),label=\"ground-truth\")\n",
    "\n",
    "\n",
    "ax.set_ylim(-0.3,1.5)\n",
    "ax.set_xlim(1.5,4)\n",
    "ax.set_yticks([])\n",
    "ax.set_xlabel(\"ppm\")\n",
    "ax.invert_xaxis()\n",
    "\n",
    "plt.legend()\n",
    "plt.show()"
   ]
  },
  {
   "attachments": {},
   "cell_type": "markdown",
   "metadata": {},
   "source": [
    "### Analyzing score of results\n",
    "\n",
    "We'll use a script to calculate the metrics of our model."
   ]
  },
  {
   "cell_type": "code",
   "execution_count": 9,
   "metadata": {},
   "outputs": [
    {
     "name": "stdout",
     "output_type": "stream",
     "text": [
      "2/2 [==============================] - 5s 1s/step\n"
     ]
    }
   ],
   "source": [
    "import metric_calculator\n",
    "\n",
    "pred = m.predict(x_test)\n",
    "raw_average = x_test.mean(axis=2)\n",
    "\n",
    "\n",
    "base_metrics = metric_calculator.calculate_metrics(raw_average.squeeze(2),y_test.squeeze((2,3)),ppm_test)\n",
    "model_metrics = metric_calculator.calculate_metrics(pred.squeeze((2,3)),y_test.squeeze((2,3)),ppm_test)\n",
    "\n",
    "\n",
    "print(f\"Raw Average Metrics: {' - '.join(['{}:{:.2e}'.format(key,value) for key,value in base_metrics.items()])}\")\n",
    "print(f\"----- Model Metrics: {' - '.join(['{}:{:.2e}'.format(key,value) for key,value in model_metrics.items()])}\")"
   ]
  },
  {
   "attachments": {},
   "cell_type": "markdown",
   "metadata": {},
   "source": [
    "### Saving submission\n",
    "\n",
    "We'll now save the results in a h5 format for submission, sipposing the test data was stored in the x_test variable. "
   ]
  },
  {
   "cell_type": "code",
   "execution_count": 12,
   "metadata": {},
   "outputs": [
    {
     "name": "stdout",
     "output_type": "stream",
     "text": [
      "2/2 [==============================] - 0s 85ms/step\n",
      "(40, 2048)\n"
     ]
    }
   ],
   "source": [
    "pred = m.predict(x_test).reshape(pred.shape[0],-1)\n",
    "print(pred.shape)\n",
    "\n",
    "from utils import save_submission\n",
    "\n",
    "save_submission(pred,ppm_test,\"sample_submissions/tf_submission.h5\")"
   ]
  }
 ],
 "metadata": {
  "kernelspec": {
   "display_name": "tf2",
   "language": "python",
   "name": "python3"
  },
  "language_info": {
   "codemirror_mode": {
    "name": "ipython",
    "version": 3
   },
   "file_extension": ".py",
   "mimetype": "text/x-python",
   "name": "python",
   "nbconvert_exporter": "python",
   "pygments_lexer": "ipython3",
   "version": "3.10.8 | packaged by conda-forge | (main, Nov 22 2022, 08:23:14) [GCC 10.4.0]"
  },
  "orig_nbformat": 4,
  "vscode": {
   "interpreter": {
    "hash": "cac9b1749f3703666049b695d56da759c9b2e75ffaa68e2362f8136c1b505553"
   }
  }
 },
 "nbformat": 4,
 "nbformat_minor": 2
}
