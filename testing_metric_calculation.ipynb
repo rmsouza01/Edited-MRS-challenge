{
 "cells": [
  {
   "cell_type": "code",
   "execution_count": 2,
   "metadata": {},
   "outputs": [],
   "source": [
    "from metric_calculator import calculate_metrics\n",
    "import numpy as np\n",
    "import h5py\n",
    "import matplotlib.pyplot as plt"
   ]
  },
  {
   "cell_type": "code",
   "execution_count": 7,
   "metadata": {},
   "outputs": [],
   "source": [
    "### load sample data\n",
    "with h5py.File(\"data/sample_data.h5\") as hf:\n",
    "    gt_fids = hf[\"ground_truth_fids\"][()]\n",
    "    ppm = hf[\"ppm\"][()]\n",
    "    t = hf[\"t\"][()]\n",
    "\n",
    "# transforming into frequency domain to use as the target data\n",
    "gt_spec = np.fft.fftshift(np.fft.ifft(gt_fids,axis=1),axes=1)\n",
    "\n",
    "y = np.real(gt_spec[:,:,1]-gt_spec[:,:,0])\n",
    "\n",
    "# setting up data to desired format\n",
    "y_max = y.max(axis=(1),keepdims=True)\n",
    "y_mean = y[:,900:1100].min(axis=(1),keepdims=True)\n",
    "y = (y-y_mean)/(y_max-y_mean)\n",
    "y_test = y[int(y.shape[0]*0.8):]\n",
    "\n",
    "# loading data from other submissions\n",
    "submission_labels = [\"tf\",\"torch\"]\n",
    "submissions = []\n",
    "\n",
    "for i in range(len(submission_labels)):\n",
    "    with h5py.File(f\"Tutorials/sample_submissions/{submission_labels[i]}_submission.h5\") as hf:\n",
    "        i_spectra = hf[\"result_spectra\"][()]\n",
    "        i_ppm = hf[\"ppm\"][()]\n",
    "        submissions.append({\"label\":submission_labels[i],\"spec\":i_spectra,\"ppm\":i_ppm})\n"
   ]
  },
  {
   "cell_type": "code",
   "execution_count": 13,
   "metadata": {},
   "outputs": [
    {
     "name": "stdout",
     "output_type": "stream",
     "text": [
      "Tensorflow Sample Model Metrics: mse:4.03e-04 - snr:9.74e+01 - linewidth:9.44e-02 - shape_score:9.39e-01\n",
      "---Pytorch Sample Model Metrics: mse:7.06e-03 - snr:6.93e+01 - linewidth:9.58e-02 - shape_score:9.49e-01\n"
     ]
    }
   ],
   "source": [
    "metric_results = {}\n",
    "\n",
    "for item in submissions:\n",
    "    metric_results[item['label']] = calculate_metrics(item[\"spec\"],y_test,item[\"ppm\"])\n",
    "\n",
    "#print(metric_results)\n",
    "print(f\"Tensorflow Sample Model Metrics: {' - '.join(['{}:{:.2e}'.format(key,value) for key,value in metric_results['tf'].items()])}\")\n",
    "print(f\"---Pytorch Sample Model Metrics: {' - '.join(['{}:{:.2e}'.format(key,value) for key,value in metric_results['torch'].items()])}\")"
   ]
  }
 ],
 "metadata": {
  "kernelspec": {
   "display_name": "torch",
   "language": "python",
   "name": "python3"
  },
  "language_info": {
   "codemirror_mode": {
    "name": "ipython",
    "version": 3
   },
   "file_extension": ".py",
   "mimetype": "text/x-python",
   "name": "python",
   "nbconvert_exporter": "python",
   "pygments_lexer": "ipython3",
   "version": "3.9.0"
  },
  "orig_nbformat": 4,
  "vscode": {
   "interpreter": {
    "hash": "e4e9359a76ef4913fd06e2e7fc03701c1df4765ac139c9d4620de4ae068fb925"
   }
  }
 },
 "nbformat": 4,
 "nbformat_minor": 2
}
